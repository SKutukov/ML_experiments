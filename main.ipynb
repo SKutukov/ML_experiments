{
 "cells": [
  {
   "cell_type": "markdown",
   "metadata": {},
   "source": [
    "# Lunar Lander"
   ]
  },
  {
   "cell_type": "code",
   "execution_count": 1,
   "metadata": {},
   "outputs": [],
   "source": [
    "from gym.envs.box2d.lunar_lander import LunarLander\n",
    "import random\n",
    "import numpy as np\n",
    "from models import Network\n",
    "from gym import wrappers\n",
    "import gym\n",
    "\n",
    "from IPython import display\n",
    "import io\n",
    "import base64\n",
    "import matplotlib\n",
    "import matplotlib.pyplot as plt\n",
    "from PIL import Image\n",
    "from IPython.display import HTML\n",
    "\n"
   ]
  },
  {
   "cell_type": "markdown",
   "metadata": {},
   "source": [
    "# Эвристический алгоритм"
   ]
  },
  {
   "cell_type": "code",
   "execution_count": 2,
   "metadata": {},
   "outputs": [],
   "source": [
    "def heuristic(env, s):\n",
    "    # Heuristic for:\n",
    "    # 1. Testing.\n",
    "    # 2. Demonstration rollout.\n",
    "    angle_targ = s[0]*0.5 + s[2]*1.0         # angle should point towards center (s[0] is horizontal coordinate, s[2] hor speed)\n",
    "    if angle_targ >  0.4: angle_targ =  0.4  # more than 0.4 radians (22 degrees) is bad\n",
    "    if angle_targ < -0.4: angle_targ = -0.4\n",
    "    hover_targ = 0.55*np.abs(s[0])           # target y should be proporional to horizontal offset\n",
    "\n",
    "    # PID controller: s[4] angle, s[5] angularSpeed\n",
    "    angle_todo = (angle_targ - s[4])*0.5 - (s[5])*1.0\n",
    "    #print(\"angle_targ=%0.2f, angle_todo=%0.2f\" % (angle_targ, angle_todo))\n",
    "\n",
    "    # PID controller: s[1] vertical coordinate s[3] vertical speed\n",
    "    hover_todo = (hover_targ - s[1])*0.5 - (s[3])*0.5\n",
    "    #print(\"hover_targ=%0.2f, hover_todo=%0.2f\" % (hover_targ, hover_todo))\n",
    "\n",
    "    if s[6] or s[7]: # legs have contact\n",
    "        angle_todo = 0\n",
    "        hover_todo = -(s[3])*0.5  # override to reduce fall speed, that's all we need after contact\n",
    "\n",
    "    if env.continuous:\n",
    "        a = np.array( [hover_todo * 20 - 1, -angle_todo * 20])\n",
    "        a = np.clip(a, -1, +1)\n",
    "    else:\n",
    "        a = 0\n",
    "        if hover_todo > np.abs(angle_todo) and hover_todo > 0.05:\n",
    "            a = 2\n",
    "        elif angle_todo < -0.05:\n",
    "            a = 3\n",
    "        elif angle_todo > +0.05:\n",
    "            a = 1\n",
    "    return a\n"
   ]
  },
  {
   "cell_type": "code",
   "execution_count": 3,
   "metadata": {},
   "outputs": [
    {
     "data": {
      "text/plain": [
       "<Figure size 648x648 with 0 Axes>"
      ]
     },
     "metadata": {},
     "output_type": "display_data"
    }
   ],
   "source": [
    "render = True\n",
    "env = LunarLander()\n",
    "frames = []"
   ]
  },
  {
   "cell_type": "code",
   "execution_count": 4,
   "metadata": {},
   "outputs": [],
   "source": [
    "for i in range(1, 10):\n",
    "    total_reward = 0\n",
    "    steps = 0\n",
    "    s = env.reset()\n",
    "    while True:\n",
    "        frames.append(Image.fromarray(env.render(mode='rgb_array')))\n",
    "                \n",
    "        a = heuristic(env, s)\n",
    "        a = np.argmax(a)\n",
    "        s1 = s.copy()\n",
    "        s, r, done, info = env.step(a)\n",
    "        # model.fit(s1, s, reward, a)\n",
    "        total_reward += r\n",
    "    \n",
    "        # Fit the model\n",
    "        #model.fit(X, Y, epochs=1, batch_size=1)\n",
    "\n",
    "        if render:\n",
    "            still_open = env.render()\n",
    "            if still_open == False:\n",
    "                break\n",
    "\n",
    "        #if steps % 20 == 0 or done:\n",
    "        #    print(\"observations:\", \" \".join([\"{:+0.2f}\".format(x) for x in s]))\n",
    "        #    print(\"step {} total_reward {:+0.2f}\".format(steps, total_reward))\n",
    "        #steps += 1\n",
    "\n",
    "        if done:\n",
    "            break\n",
    "\n",
    "#         print(total_reward)\n",
    "\n",
    "env.close()"
   ]
  },
  {
   "cell_type": "code",
   "execution_count": 10,
   "metadata": {
    "scrolled": true
   },
   "outputs": [],
   "source": [
    "frames[0].save('Lunar_heuristic.gif',\n",
    "               save_all=True,\n",
    "               append_images=frames[1:],\n",
    "               duration=1000,\n",
    "               loop=0)\n"
   ]
  },
  {
   "cell_type": "code",
   "execution_count": 11,
   "metadata": {},
   "outputs": [
    {
     "data": {
      "text/html": [
       "<img src=\"Lunar_heuristic.gif\">"
      ],
      "text/plain": [
       "<IPython.core.display.HTML object>"
      ]
     },
     "execution_count": 11,
     "metadata": {},
     "output_type": "execute_result"
    }
   ],
   "source": [
    "HTML('<img src=\"Lunar_heuristic.gif\">')"
   ]
  },
  {
   "cell_type": "markdown",
   "metadata": {},
   "source": [
    "# Нейронная сеть"
   ]
  },
  {
   "cell_type": "code",
   "execution_count": null,
   "metadata": {},
   "outputs": [],
   "source": [
    "class Network:\n",
    "    def __init__(self):\n",
    "        # Create placeholders\n",
    "        with tf.name_scope('inputs'):\n",
    "            self.X = tf.placeholder(tf.float32, shape=(self.n_x, None), name=\"X\")\n",
    "            self.Y = tf.placeholder(tf.float32, shape=(self.n_y, None), name=\"Y\")\n",
    "            self.discounted_episode_rewards_norm = tf.placeholder(tf.float32, [None, ], name=\"actions_value\")\n",
    "        # Initialize parameters\n",
    "        units_layer_1 = 10\n",
    "        units_layer_2 = 10\n",
    "        units_output_layer = self.n_y\n",
    "        with tf.name_scope('parameters'):\n",
    "            W1 = tf.get_variable(\"W1\", [units_layer_1, self.n_x], initializer = tf.contrib.layers.xavier_initializer(seed=1))\n",
    "            b1 = tf.get_variable(\"b1\", [units_layer_1, 1], initializer = tf.contrib.layers.xavier_initializer(seed=1))\n",
    "            W2 = tf.get_variable(\"W2\", [units_layer_2, units_layer_1], initializer = tf.contrib.layers.xavier_initializer(seed=1))\n",
    "            b2 = tf.get_variable(\"b2\", [units_layer_2, 1], initializer = tf.contrib.layers.xavier_initializer(seed=1))\n",
    "            W3 = tf.get_variable(\"W3\", [self.n_y, units_layer_2], initializer = tf.contrib.layers.xavier_initializer(seed=1))\n",
    "            b3 = tf.get_variable(\"b3\", [self.n_y, 1], initializer = tf.contrib.layers.xavier_initializer(seed=1))\n",
    "        # Forward prop\n",
    "        with tf.name_scope('layer_1'):\n",
    "            Z1 = tf.add(tf.matmul(W1,self.X), b1)\n",
    "            A1 = tf.nn.relu(Z1)\n",
    "        with tf.name_scope('layer_2'):\n",
    "            Z2 = tf.add(tf.matmul(W2, A1), b2)\n",
    "            A2 = tf.nn.relu(Z2)\n",
    "        with tf.name_scope('layer_3'):\n",
    "            Z3 = tf.add(tf.matmul(W3, A2), b3)\n",
    "            A3 = tf.nn.softmax(Z3)\n",
    "        # Softmax outputs, we need to transpose as tensorflow nn functions expects them in this shape\n",
    "        logits = tf.transpose(Z3)\n",
    "        labels = tf.transpose(self.Y)\n",
    "        self.outputs_softmax = tf.nn.softmax(logits, name='A3')\n",
    "\n",
    "    def train(self)\n",
    "        with tf.name_scope('loss'):\n",
    "            neg_log_prob = tf.nn.softmax_cross_entropy_with_logits(logits=logits, labels=labels)\n",
    "            loss = tf.reduce_mean(neg_log_prob * self.discounted_episode_rewards_norm)  # reward guided loss\n",
    "            \n",
    "        with tf.name_scope('train'):\n",
    "            self.train_op = tf.train.AdamOptimizer(self.lr).minimize(loss)"
   ]
  }
 ],
 "metadata": {
  "kernelspec": {
   "display_name": "Python 3",
   "language": "python",
   "name": "python3"
  },
  "language_info": {
   "codemirror_mode": {
    "name": "ipython",
    "version": 3
   },
   "file_extension": ".py",
   "mimetype": "text/x-python",
   "name": "python",
   "nbconvert_exporter": "python",
   "pygments_lexer": "ipython3",
   "version": "3.5.2"
  }
 },
 "nbformat": 4,
 "nbformat_minor": 2
}
