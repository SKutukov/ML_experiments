{
 "cells": [
  {
   "cell_type": "code",
   "execution_count": 16,
   "metadata": {},
   "outputs": [],
   "source": [
    "import os\n",
    "import pandas as pd\n",
    "import numpy as np\n"
   ]
  },
  {
   "cell_type": "code",
   "execution_count": 17,
   "metadata": {},
   "outputs": [],
   "source": [
    "clusters = pd.read_csv('/home/skutukov/datasets/temp/res.txt', sep='\\t', header=None)\n",
    "clusters.columns = ['user', 'cluster_id']\n"
   ]
  },
  {
   "cell_type": "code",
   "execution_count": 18,
   "metadata": {},
   "outputs": [
    {
     "name": "stdout",
     "output_type": "stream",
     "text": [
      "   user  cluster_id\n0     0         307\n1     1         307\n2     2         307\n3     3         307\n4     4           0\n"
     ]
    }
   ],
   "source": [
    "print(clusters.head())\n"
   ]
  },
  {
   "cell_type": "code",
   "execution_count": 19,
   "metadata": {},
   "outputs": [],
   "source": [
    ""
   ]
  },
  {
   "cell_type": "markdown",
   "metadata": {},
   "source": [
    "# Size of biggest cluster"
   ]
  },
  {
   "cell_type": "code",
   "execution_count": 19,
   "metadata": {},
   "outputs": [
    {
     "data": {
      "image/png": "[encoded data removed]",
      "text/plain": [
       "<Figure size 432x288 with 1 Axes>"
      ]
     },
     "metadata": {},
     "output_type": "display_data"
    }
   ],
   "source": [
    "print(\"biggest 20 clusters\")\n",
    "print(clusters.cluster_id.value_counts().head(20))\n",
    "print(clusters.cluster_id.value_counts().values)\n"
   ]
  },
  {
   "cell_type": "code",
   "execution_count": 29,
   "metadata": {},
   "outputs": [
    {
     "data": {
      "image/png": "[encoded data removed]",
      "text/plain": [
       "<Figure size 432x288 with 1 Axes>"
      ]
     },
     "metadata": {},
     "output_type": "display_data"
    }
   ],
   "source": [
    "import matplotlib.pyplot as plt\n",
    "X = clusters.cluster_id.value_counts().head(100).values\n",
    "def plot_bar_x(X):\n",
    "    # this is for plotting purpose\n",
    "    index = range(len(X))\n",
    "    plt.bar(x=index, height=X, color=\"blue\")\n",
    "    plt.xlabel('Clusters')\n",
    "    plt.ylabel('Size')\n",
    "    plt.title('Cluster')\n",
    "    plt.show()\n",
    "\n",
    "plot_bar_x(X) \n"
   ]
  },
  {
   "cell_type": "markdown",
   "metadata": {},
   "source": [
    "# Read checkins"
   ]
  },
  {
   "cell_type": "code",
   "execution_count": 31,
   "metadata": {},
   "outputs": [
    {
     "name": "stdout",
     "output_type": "stream",
     "text": [
      "   user  location_id\n0     0        22847\n1     0       420315\n2     0       316637\n3     0        16516\n4     0      5535878\n"
     ]
    }
   ],
   "source": [
    "import pandas as pd\n",
    "\n",
    "checkins_file = \"/home/skutukov/datasets/temp/Gowalla_totalCheckins.txt\"\n",
    "checkins = pd.read_csv(checkins_file, sep='\\t', header=None)\n",
    "checkins = checkins.drop(checkins.columns[[1, 2, 3]], axis=1)\n",
    "checkins.columns = ['user', 'location_id']\n",
    "print(checkins.head())"
   ]
  },
  {
   "cell_type": "code",
   "execution_count": 32,
   "metadata": {},
   "outputs": [
    {
     "name": "stdout",
     "output_type": "stream",
     "text": [
      "   user  location_id  cluster_id\n0     0        22847         307\n1     0       420315         307\n2     0       316637         307\n3     0        16516         307\n4     0      5535878         307\n"
     ]
    }
   ],
   "source": [
    "# print(clusters.head())\n",
    "checkins = checkins.merge(clusters, left_on='user', right_on='user',\n",
    "                          how='inner')\n",
    "print(checkins.head())\n"
   ]
  },
  {
   "cell_type": "code",
   "execution_count": 33,
   "metadata": {},
   "outputs": [],
   "source": [
    ""
   ]
  },
  {
   "cell_type": "markdown",
   "metadata": {
    "collapsed": false
   },
   "source": [
    "# Calculate top locations\n"
   ]
  },
  {
   "cell_type": "code",
   "execution_count": 34,
   "metadata": {
    "collapsed": false
   },
   "outputs": [],
   "source": [
    "\n",
    "count = 10\n",
    "def get_top(x):\n",
    "    top = x.location_id.value_counts().head(count).index.values\n",
    "    return pd.Series(top)\n",
    "\n",
    "top_checkins = checkins.groupby('cluster_id').apply(get_top).unstack()\n"
   ]
  },
  {
   "cell_type": "code",
   "execution_count": 35,
   "metadata": {},
   "outputs": [
    {
     "name": "stdout",
     "output_type": "stream",
     "text": [
      "(34117, 10)\n                   0         1          2         3         4         5  \\\ncluster_id                                                                \n0             9191.0   24650.0    24894.0    8964.0  420315.0  153505.0   \n1             9961.0  691005.0  1200646.0  894754.0   26995.0  530972.0   \n2           420315.0   17208.0     9371.0   21714.0  887540.0   72530.0   \n3            91717.0  703421.0   869843.0  689974.0  124660.0   56902.0   \n4           211348.0  102499.0    57155.0  188615.0   53896.0  225674.0   \n\n                    6          7          8         9  \ncluster_id                                             \n0             21714.0    57155.0   113848.0   19542.0  \n1            156695.0  1357197.0  1164333.0   95179.0  \n2             16233.0    28221.0   575801.0  755297.0  \n3           1250475.0   443999.0  1130695.0  127460.0  \n4             40971.0    21194.0   203431.0  152880.0  \n"
     ]
    },
    {
     "data": {
      "text/plain": [
       "34117"
      ]
     },
     "execution_count": 35,
     "metadata": {},
     "output_type": "execute_result"
    }
   ],
   "source": [
    "print(top_checkins.shape)\n",
    "print(top_checkins.head())\n",
    "top_checkins.shape[0]"
   ]
  },
  {
   "cell_type": "code",
   "execution_count": 36,
   "metadata": {
    "collapsed": false
   },
   "outputs": [
    {
     "name": "stdout",
     "output_type": "stream",
     "text": [
      "   user  location_id  cluster_id        0       1       2        3        4  \\\n0     0        22847         307  19542.0  9410.0  9246.0  10190.0  14470.0   \n1     0       420315         307  19542.0  9410.0  9246.0  10190.0  14470.0   \n2     0       316637         307  19542.0  9410.0  9246.0  10190.0  14470.0   \n3     0        16516         307  19542.0  9410.0  9246.0  10190.0  14470.0   \n4     0      5535878         307  19542.0  9410.0  9246.0  10190.0  14470.0   \n\n         5        6        7       8        9  \n0  10259.0  55033.0  23256.0  9241.0  22831.0  \n1  10259.0  55033.0  23256.0  9241.0  22831.0  \n2  10259.0  55033.0  23256.0  9241.0  22831.0  \n3  10259.0  55033.0  23256.0  9241.0  22831.0  \n4  10259.0  55033.0  23256.0  9241.0  22831.0  \n"
     ]
    }
   ],
   "source": [
    "test_user_top_chekings = checkins.merge(top_checkins, left_on='cluster_id',\n",
    "                                             right_on='cluster_id', how='inner')\n",
    "print(test_user_top_chekings.head())"
   ]
  },
  {
   "cell_type": "code",
   "execution_count": 37,
   "metadata": {
    "collapsed": false
   },
   "outputs": [
    {
     "name": "stdout",
     "output_type": "stream",
     "text": [
      "6442892\n"
     ]
    }
   ],
   "source": [
    "print(test_user_top_chekings.shape[0])"
   ]
  },
  {
   "cell_type": "code",
   "execution_count": 38,
   "metadata": {
    "collapsed": false
   },
   "outputs": [],
   "source": [
    "uniq_clusters = test_user_top_chekings.cluster_id.unique()\n"
   ]
  },
  {
   "cell_type": "code",
   "execution_count": 39,
   "metadata": {
    "collapsed": false
   },
   "outputs": [
    {
     "name": "stdout",
     "output_type": "stream",
     "text": [
      "0.0\n"
     ]
    },
    {
     "name": "stdout",
     "output_type": "stream",
     "text": [
      "0.07760490164975604\n"
     ]
    },
    {
     "name": "stdout",
     "output_type": "stream",
     "text": [
      "0.1552098032995121\n"
     ]
    },
    {
     "name": "stdout",
     "output_type": "stream",
     "text": [
      "0.23281470494926812\n"
     ]
    },
    {
     "name": "stdout",
     "output_type": "stream",
     "text": [
      "0.3104196065990242\n"
     ]
    },
    {
     "name": "stdout",
     "output_type": "stream",
     "text": [
      "0.3880245082487802\n"
     ]
    },
    {
     "name": "stdout",
     "output_type": "stream",
     "text": [
      "0.46562940989853624\n"
     ]
    },
    {
     "name": "stdout",
     "output_type": "stream",
     "text": [
      "0.5432343115482923\n"
     ]
    },
    {
     "name": "stdout",
     "output_type": "stream",
     "text": [
      "0.6208392131980484\n"
     ]
    },
    {
     "name": "stdout",
     "output_type": "stream",
     "text": [
      "0.6984441148478043\n"
     ]
    },
    {
     "name": "stdout",
     "output_type": "stream",
     "text": [
      "0.7760490164975604\n"
     ]
    },
    {
     "name": "stdout",
     "output_type": "stream",
     "text": [
      "0.8536539181473165\n"
     ]
    },
    {
     "name": "stdout",
     "output_type": "stream",
     "text": [
      "0.9312588197970725\n"
     ]
    }
   ],
   "source": [
    "clusters_count = {}\n",
    "clusters_match = {}\n",
    "\n",
    "for index, row in test_user_top_chekings.iterrows():\n",
    "    if index % 500000 == 0:\n",
    "        print(index/test_user_top_chekings.shape[0])\n",
    "        \n",
    "    if row.cluster_id in clusters_count:\n",
    "        clusters_count[row.cluster_id] += 1\n",
    "    else:\n",
    "        clusters_count[row.cluster_id] = 1\n",
    "    location = 0\n",
    "    isMatch = False\n",
    "    for i in range(0, 10):\n",
    "        if row['location_id'] == row[i]:\n",
    "            isMatch = True\n",
    "            break\n",
    "    if isMatch:\n",
    "        if row.cluster_id in clusters_match:\n",
    "              clusters_match[row.cluster_id] += 1\n",
    "        else:\n",
    "              clusters_match[row.cluster_id] = 1\n",
    "\n"
   ]
  },
  {
   "cell_type": "code",
   "execution_count": 40,
   "metadata": {
    "collapsed": false
   },
   "outputs": [],
   "source": [
    "\n"
   ]
  },
  {
   "cell_type": "markdown",
   "metadata": {
    "collapsed": false
   },
   "source": [
    "## Calculate accuracy for each cluster "
   ]
  },
  {
   "cell_type": "code",
   "execution_count": 41,
   "metadata": {
    "collapsed": false
   },
   "outputs": [],
   "source": [
    "\n",
    "rank = np.zeros_like(uniq_clusters, dtype=float)\n",
    "for i, u in enumerate(uniq_clusters):\n",
    "    if u in clusters_match:\n",
    "        rank[i] = clusters_match[u]/clusters_count[u]\n",
    "        # print(u, clusters_match[u], clusters_count[u], clusters_match[u]/clusters_count[u],  rank[i])\n",
    "    else: \n",
    "        rank[i] = 0\n",
    "        # print(rank[i])\n"
   ]
  },
  {
   "cell_type": "markdown",
   "metadata": {},
   "source": [
    "##  Mean accuracy of all clusters \n"
   ]
  },
  {
   "cell_type": "code",
   "execution_count": 42,
   "metadata": {},
   "outputs": [
    {
     "name": "stdout",
     "output_type": "stream",
     "text": [
      "mean score 0.11941666004944665\n"
     ]
    }
   ],
   "source": [
    "\n",
    "print('mean score', rank.sum()/clusters.shape[0])\n"
   ]
  },
  {
   "cell_type": "markdown",
   "metadata": {},
   "source": [
    "##  Mean accuracy of clusters with positive scores \n",
    "\n"
   ]
  },
  {
   "cell_type": "code",
   "execution_count": 21,
   "metadata": {},
   "outputs": [
    {
     "name": "stdout",
     "output_type": "stream",
     "text": [
      "mean non-zero score  0.6881097580613995\n"
     ]
    }
   ],
   "source": [
    "print('mean non-zero score ', rank[rank != 0].mean())\n"
   ]
  },
  {
   "cell_type": "code",
   "execution_count": null,
   "metadata": {},
   "outputs": [],
   "source": [
    "\n",
    "\n"
   ]
  }
 ],
 "metadata": {
  "kernelspec": {
   "display_name": "Python 3",
   "language": "python",
   "name": "python3"
  },
  "language_info": {
   "codemirror_mode": {
    "name": "ipython",
    "version": 3
   },
   "file_extension": ".py",
   "mimetype": "text/x-python",
   "name": "python",
   "nbconvert_exporter": "python",
   "pygments_lexer": "ipython3",
   "version": "3.6.6"
  }
 },
 "nbformat": 4,
 "nbformat_minor": 2
}
